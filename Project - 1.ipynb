{
 "cells": [
  {
   "cell_type": "code",
   "execution_count": 1,
   "metadata": {},
   "outputs": [],
   "source": [
    "import pandas as pd\n",
    "import numpy as np\n",
    "import matplotlib.pyplot as plt\n",
    "from sklearn.metrics import accuracy_score\n",
    "import matplotlib.pyplot as plt"
   ]
  },
  {
   "cell_type": "code",
   "execution_count": 2,
   "metadata": {},
   "outputs": [],
   "source": [
    "df = pd.read_csv('Book1.csv')"
   ]
  },
  {
   "cell_type": "code",
   "execution_count": 3,
   "metadata": {},
   "outputs": [
    {
     "data": {
      "text/html": [
       "<div>\n",
       "<style scoped>\n",
       "    .dataframe tbody tr th:only-of-type {\n",
       "        vertical-align: middle;\n",
       "    }\n",
       "\n",
       "    .dataframe tbody tr th {\n",
       "        vertical-align: top;\n",
       "    }\n",
       "\n",
       "    .dataframe thead th {\n",
       "        text-align: right;\n",
       "    }\n",
       "</style>\n",
       "<table border=\"1\" class=\"dataframe\">\n",
       "  <thead>\n",
       "    <tr style=\"text-align: right;\">\n",
       "      <th></th>\n",
       "      <th>Column1</th>\n",
       "      <th>New York</th>\n",
       "      <th>India</th>\n",
       "      <th>China</th>\n",
       "    </tr>\n",
       "  </thead>\n",
       "  <tbody>\n",
       "    <tr>\n",
       "      <td>0</td>\n",
       "      <td>Large</td>\n",
       "      <td>$ 120</td>\n",
       "      <td>$ 140</td>\n",
       "      <td>$ 110</td>\n",
       "    </tr>\n",
       "    <tr>\n",
       "      <td>1</td>\n",
       "      <td>XLarge</td>\n",
       "      <td>$ 230</td>\n",
       "      <td>NaN</td>\n",
       "      <td>$ 200</td>\n",
       "    </tr>\n",
       "    <tr>\n",
       "      <td>2</td>\n",
       "      <td>2XLarge</td>\n",
       "      <td>$ 450</td>\n",
       "      <td>$ 413</td>\n",
       "      <td>NaN</td>\n",
       "    </tr>\n",
       "    <tr>\n",
       "      <td>3</td>\n",
       "      <td>4XLarge</td>\n",
       "      <td>$ 774</td>\n",
       "      <td>$ 890</td>\n",
       "      <td>$670</td>\n",
       "    </tr>\n",
       "    <tr>\n",
       "      <td>4</td>\n",
       "      <td>8XLarge</td>\n",
       "      <td>$1400</td>\n",
       "      <td>$ 1300</td>\n",
       "      <td>$ 1180</td>\n",
       "    </tr>\n",
       "    <tr>\n",
       "      <td>5</td>\n",
       "      <td>10XLarge</td>\n",
       "      <td>$ 2820</td>\n",
       "      <td>$ 2970</td>\n",
       "      <td>NaN</td>\n",
       "    </tr>\n",
       "  </tbody>\n",
       "</table>\n",
       "</div>"
      ],
      "text/plain": [
       "    Column1 New York   India   China\n",
       "0     Large    $ 120   $ 140   $ 110\n",
       "1    XLarge    $ 230     NaN   $ 200\n",
       "2   2XLarge    $ 450   $ 413     NaN\n",
       "3   4XLarge    $ 774   $ 890    $670\n",
       "4   8XLarge    $1400  $ 1300  $ 1180\n",
       "5  10XLarge   $ 2820  $ 2970     NaN"
      ]
     },
     "execution_count": 3,
     "metadata": {},
     "output_type": "execute_result"
    }
   ],
   "source": [
    "df"
   ]
  },
  {
   "cell_type": "code",
   "execution_count": 4,
   "metadata": {},
   "outputs": [
    {
     "data": {
      "text/html": [
       "<div>\n",
       "<style scoped>\n",
       "    .dataframe tbody tr th:only-of-type {\n",
       "        vertical-align: middle;\n",
       "    }\n",
       "\n",
       "    .dataframe tbody tr th {\n",
       "        vertical-align: top;\n",
       "    }\n",
       "\n",
       "    .dataframe thead th {\n",
       "        text-align: right;\n",
       "    }\n",
       "</style>\n",
       "<table border=\"1\" class=\"dataframe\">\n",
       "  <thead>\n",
       "    <tr style=\"text-align: right;\">\n",
       "      <th></th>\n",
       "      <th>region</th>\n",
       "      <th>machine</th>\n",
       "      <th>units</th>\n",
       "      <th>hour1</th>\n",
       "      <th>cost1</th>\n",
       "    </tr>\n",
       "  </thead>\n",
       "  <tbody>\n",
       "    <tr>\n",
       "      <td>0</td>\n",
       "      <td>New York</td>\n",
       "      <td>Large</td>\n",
       "      <td>10</td>\n",
       "      <td>1</td>\n",
       "      <td>$ 120</td>\n",
       "    </tr>\n",
       "    <tr>\n",
       "      <td>1</td>\n",
       "      <td>New York</td>\n",
       "      <td>XLarge</td>\n",
       "      <td>20</td>\n",
       "      <td>1</td>\n",
       "      <td>$ 230</td>\n",
       "    </tr>\n",
       "    <tr>\n",
       "      <td>2</td>\n",
       "      <td>New York</td>\n",
       "      <td>2XLarge</td>\n",
       "      <td>40</td>\n",
       "      <td>1</td>\n",
       "      <td>$ 450</td>\n",
       "    </tr>\n",
       "    <tr>\n",
       "      <td>3</td>\n",
       "      <td>New York</td>\n",
       "      <td>4XLarge</td>\n",
       "      <td>80</td>\n",
       "      <td>1</td>\n",
       "      <td>$ 774</td>\n",
       "    </tr>\n",
       "    <tr>\n",
       "      <td>4</td>\n",
       "      <td>New York</td>\n",
       "      <td>8XLarge</td>\n",
       "      <td>160</td>\n",
       "      <td>1</td>\n",
       "      <td>$1400</td>\n",
       "    </tr>\n",
       "    <tr>\n",
       "      <td>5</td>\n",
       "      <td>New York</td>\n",
       "      <td>10XLarge</td>\n",
       "      <td>320</td>\n",
       "      <td>1</td>\n",
       "      <td>$ 2820</td>\n",
       "    </tr>\n",
       "    <tr>\n",
       "      <td>6</td>\n",
       "      <td>India</td>\n",
       "      <td>Large</td>\n",
       "      <td>10</td>\n",
       "      <td>1</td>\n",
       "      <td>$ 140</td>\n",
       "    </tr>\n",
       "    <tr>\n",
       "      <td>7</td>\n",
       "      <td>India</td>\n",
       "      <td>XLarge</td>\n",
       "      <td>20</td>\n",
       "      <td>1</td>\n",
       "      <td>NaN</td>\n",
       "    </tr>\n",
       "    <tr>\n",
       "      <td>8</td>\n",
       "      <td>India</td>\n",
       "      <td>2XLarge</td>\n",
       "      <td>40</td>\n",
       "      <td>1</td>\n",
       "      <td>$ 413</td>\n",
       "    </tr>\n",
       "    <tr>\n",
       "      <td>9</td>\n",
       "      <td>India</td>\n",
       "      <td>4XLarge</td>\n",
       "      <td>80</td>\n",
       "      <td>1</td>\n",
       "      <td>$ 890</td>\n",
       "    </tr>\n",
       "    <tr>\n",
       "      <td>10</td>\n",
       "      <td>India</td>\n",
       "      <td>8XLarge</td>\n",
       "      <td>160</td>\n",
       "      <td>1</td>\n",
       "      <td>$ 1300</td>\n",
       "    </tr>\n",
       "    <tr>\n",
       "      <td>11</td>\n",
       "      <td>India</td>\n",
       "      <td>10XLarge</td>\n",
       "      <td>320</td>\n",
       "      <td>1</td>\n",
       "      <td>$ 2970</td>\n",
       "    </tr>\n",
       "    <tr>\n",
       "      <td>12</td>\n",
       "      <td>china</td>\n",
       "      <td>Large</td>\n",
       "      <td>10</td>\n",
       "      <td>1</td>\n",
       "      <td>$ 110</td>\n",
       "    </tr>\n",
       "    <tr>\n",
       "      <td>13</td>\n",
       "      <td>china</td>\n",
       "      <td>XLarge</td>\n",
       "      <td>20</td>\n",
       "      <td>1</td>\n",
       "      <td>$ 200</td>\n",
       "    </tr>\n",
       "    <tr>\n",
       "      <td>14</td>\n",
       "      <td>china</td>\n",
       "      <td>2XLarge</td>\n",
       "      <td>40</td>\n",
       "      <td>1</td>\n",
       "      <td>NaN</td>\n",
       "    </tr>\n",
       "    <tr>\n",
       "      <td>15</td>\n",
       "      <td>china</td>\n",
       "      <td>4XLarge</td>\n",
       "      <td>80</td>\n",
       "      <td>1</td>\n",
       "      <td>$670</td>\n",
       "    </tr>\n",
       "    <tr>\n",
       "      <td>16</td>\n",
       "      <td>china</td>\n",
       "      <td>8XLarge</td>\n",
       "      <td>160</td>\n",
       "      <td>1</td>\n",
       "      <td>$ 1180</td>\n",
       "    </tr>\n",
       "    <tr>\n",
       "      <td>17</td>\n",
       "      <td>china</td>\n",
       "      <td>10XLarge</td>\n",
       "      <td>320</td>\n",
       "      <td>1</td>\n",
       "      <td>NaN</td>\n",
       "    </tr>\n",
       "  </tbody>\n",
       "</table>\n",
       "</div>"
      ],
      "text/plain": [
       "      region   machine  units  hour1   cost1\n",
       "0   New York     Large     10      1   $ 120\n",
       "1   New York    XLarge     20      1   $ 230\n",
       "2   New York   2XLarge     40      1   $ 450\n",
       "3   New York   4XLarge     80      1   $ 774\n",
       "4   New York   8XLarge    160      1   $1400\n",
       "5   New York  10XLarge    320      1  $ 2820\n",
       "6      India     Large     10      1   $ 140\n",
       "7      India    XLarge     20      1     NaN\n",
       "8      India   2XLarge     40      1   $ 413\n",
       "9      India   4XLarge     80      1   $ 890\n",
       "10     India   8XLarge    160      1  $ 1300\n",
       "11     India  10XLarge    320      1  $ 2970\n",
       "12     china     Large     10      1   $ 110\n",
       "13     china    XLarge     20      1   $ 200\n",
       "14     china   2XLarge     40      1     NaN\n",
       "15     china   4XLarge     80      1    $670\n",
       "16     china   8XLarge    160      1  $ 1180\n",
       "17     china  10XLarge    320      1     NaN"
      ]
     },
     "execution_count": 4,
     "metadata": {},
     "output_type": "execute_result"
    }
   ],
   "source": [
    "df1 = pd.read_csv('Book3.csv')\n",
    "df1"
   ]
  },
  {
   "cell_type": "code",
   "execution_count": 5,
   "metadata": {},
   "outputs": [
    {
     "data": {
      "image/png": "[encoded data removed]",
      "text/plain": [
       "<Figure size 432x288 with 1 Axes>"
      ]
     },
     "metadata": {
      "needs_background": "light"
     },
     "output_type": "display_data"
    }
   ],
   "source": [
    "x=[10,20,40,80,160,320] \n",
    "y =[5,5,5,5,5,5]\n",
    "plt.hist(x, 6)\n",
    "plt.show()"
   ]
  },
  {
   "cell_type": "code",
   "execution_count": 6,
   "metadata": {},
   "outputs": [
    {
     "data": {
      "image/png": "[encoded data removed]",
      "text/plain": [
       "<Figure size 432x288 with 1 Axes>"
      ]
     },
     "metadata": {
      "needs_background": "light"
     },
     "output_type": "display_data"
    }
   ],
   "source": [
    "plt.scatter(x, y)\n",
    "plt.show()"
   ]
  },
  {
   "cell_type": "markdown",
   "metadata": {},
   "source": [
    "# 230 units for 5 Hours"
   ]
  },
  {
   "cell_type": "code",
   "execution_count": 7,
   "metadata": {},
   "outputs": [
    {
     "name": "stdout",
     "output_type": "stream",
     "text": [
      "Total units:  [  50  100  200  400  800 1600]\n"
     ]
    }
   ],
   "source": [
    "x=[10,20,40,80,160,320] \n",
    "z =[5,5,5,5,5,5]\n",
    "r = np.multiply(x,z)  \n",
    "print (\"Total units: \",r)  \n"
   ]
  },
  {
   "cell_type": "code",
   "execution_count": 8,
   "metadata": {},
   "outputs": [
    {
     "name": "stdout",
     "output_type": "stream",
     "text": [
      "50\n",
      "100\n",
      "200\n",
      "400\n",
      "800\n",
      "1600\n"
     ]
    }
   ],
   "source": [
    "units = [10,20,40,80,160,320]\n",
    "hours = [5]\n",
    "\n",
    "for x in units:\n",
    "  for y in hours:\n",
    "    totalunits = x * y\n",
    "    print(totalunits )\n"
   ]
  },
  {
   "cell_type": "code",
   "execution_count": 9,
   "metadata": {},
   "outputs": [],
   "source": [
    "totalunits  = [50,100,200,400,800,1600]"
   ]
  },
  {
   "cell_type": "code",
   "execution_count": 10,
   "metadata": {},
   "outputs": [
    {
     "name": "stdout",
     "output_type": "stream",
     "text": [
      "2850 2765 2550\n"
     ]
    }
   ],
   "source": [
    "totalcost_ny = (120+450)*5\n",
    "totalcost_ny\n",
    "totalcost_india =(140+413)*5\n",
    "totalcost_india\n",
    "totalcost_china=((200*2)+110)*5\n",
    "totalcost_china\n",
    "print ( totalcost_ny,totalcost_india,totalcost_china)"
   ]
  },
  {
   "cell_type": "code",
   "execution_count": 11,
   "metadata": {},
   "outputs": [
    {
     "data": {
      "image/png": "[encoded data removed]",
      "text/plain": [
       "<Figure size 432x288 with 1 Axes>"
      ]
     },
     "metadata": {
      "needs_background": "light"
     },
     "output_type": "display_data"
    }
   ],
   "source": [
    "x = [\"NewYork\", \"India\", \"China\"]\n",
    "y = [2850 ,2765, 2550]\n",
    "\n",
    "plt.xlabel('x')\n",
    "plt.ylabel('y (in tens of thousands )')\n",
    "plt.title('costs')\n",
    "\n",
    "plt.bar(x, y)\n",
    "plt.show()"
   ]
  },
  {
   "cell_type": "code",
   "execution_count": 12,
   "metadata": {},
   "outputs": [],
   "source": [
    "##units required 230 in 5 hours\n",
    "##so 200 +50 >=230 (nearest)\n",
    "##SO L+2XL IS THE required quantity for ny and india,L+2XL for china"
   ]
  },
  {
   "cell_type": "code",
   "execution_count": 13,
   "metadata": {},
   "outputs": [
    {
     "name": "stdout",
     "output_type": "stream",
     "text": [
      "for 230 units for 5 Hours(New York),  output : {'region ': 'New York', 'total_cost': '$2850', 'machines': ' [(2XLarge, 1)(Large, 1)]'}\n"
     ]
    }
   ],
   "source": [
    "\n",
    "output =   {\n",
    "   \"region \":\"New York\",\n",
    "   \"total_cost\": \"$2850\",\n",
    "   \"machines\": \" [(2XLarge, 1)(Large, 1)]\"\n",
    "      }\n",
    "print(\"for 230 units for 5 Hours(New York),  output :\", output)"
   ]
  },
  {
   "cell_type": "code",
   "execution_count": 14,
   "metadata": {},
   "outputs": [
    {
     "name": "stdout",
     "output_type": "stream",
     "text": [
      "for 230 units for 5 Hours(India),  output  : {'region': 'India', 'total_cost': '$2765', 'machines': ' [(2XLarge, 1)(Large, 1)]'}\n"
     ]
    }
   ],
   "source": [
    "output =   {\n",
    "\"region\":\"India\",\n",
    "   \"total_cost\": \"$2765\",\n",
    "   \"machines\": \" [(2XLarge, 1)(Large, 1)]\"\n",
    "    \n",
    "}\n",
    "print(\"for 230 units for 5 Hours(India),  output  :\", output)"
   ]
  },
  {
   "cell_type": "code",
   "execution_count": 15,
   "metadata": {},
   "outputs": [
    {
     "name": "stdout",
     "output_type": "stream",
     "text": [
      "for 230 units for 5 Hours (China),  output : {'region ': 'China', 'total_cost': '$2550', 'machines': ' [(XLarge, 2)(Large, 1)]'}\n"
     ]
    }
   ],
   "source": [
    "output =   {\n",
    "\"region \":\"China\",\n",
    "   \"total_cost\": \"$2550\",\n",
    "   \"machines\": \" [(XLarge, 2)(Large, 1)]\"\n",
    "    \n",
    "}\n",
    "print(\"for 230 units for 5 Hours (China),  output :\", output)"
   ]
  },
  {
   "cell_type": "markdown",
   "metadata": {},
   "source": [
    "# 100 units for 24 Hours"
   ]
  },
  {
   "cell_type": "code",
   "execution_count": 16,
   "metadata": {},
   "outputs": [
    {
     "name": "stdout",
     "output_type": "stream",
     "text": [
      "Total units:  [ 240  480  960 1920 3840 7680]\n"
     ]
    }
   ],
   "source": [
    "x=[10,20,40,80,160,320] \n",
    "z =[24,24,24,24,24,24]\n",
    "r = np.multiply(x,z)  \n",
    "print (\"Total units: \",r)  "
   ]
  },
  {
   "cell_type": "code",
   "execution_count": 17,
   "metadata": {},
   "outputs": [
    {
     "name": "stdout",
     "output_type": "stream",
     "text": [
      "240\n",
      "480\n",
      "960\n",
      "1920\n",
      "3840\n",
      "7680\n"
     ]
    }
   ],
   "source": [
    "units = [10,20,40,80,160,320]\n",
    "hours = [24]\n",
    "\n",
    "for x in units:\n",
    "  for y in hours:\n",
    "    totalunits = x * y\n",
    "    print(totalunits )"
   ]
  },
  {
   "cell_type": "code",
   "execution_count": 18,
   "metadata": {},
   "outputs": [],
   "source": [
    "# We need 100 units in 24 hours\n",
    "#240 units is the lowest production in 24 hours\n",
    "#10 unit capacity machine can produce 100 units in 10 hours"
   ]
  },
  {
   "cell_type": "code",
   "execution_count": 19,
   "metadata": {},
   "outputs": [
    {
     "name": "stdout",
     "output_type": "stream",
     "text": [
      "1200 1400 1100\n"
     ]
    }
   ],
   "source": [
    "totalcost_ny = 120*10\n",
    "totalcost_ny\n",
    "totalcost_india =140*10\n",
    "totalcost_india\n",
    "totalcost_china=110*10\n",
    "totalcost_china\n",
    "print ( totalcost_ny,totalcost_india,totalcost_china)"
   ]
  },
  {
   "cell_type": "code",
   "execution_count": 20,
   "metadata": {},
   "outputs": [
    {
     "data": {
      "image/png": "[encoded data removed]",
      "text/plain": [
       "<Figure size 432x288 with 1 Axes>"
      ]
     },
     "metadata": {
      "needs_background": "light"
     },
     "output_type": "display_data"
    }
   ],
   "source": [
    "x = [\"NewYork\", \"India\", \"China\"]\n",
    "y = [1200 ,1400 ,1100]\n",
    "\n",
    "plt.xlabel('x')\n",
    "plt.ylabel('y (in tens of thousands )')\n",
    "plt.title('costs')\n",
    "\n",
    "plt.bar(x, y)\n",
    "plt.show()"
   ]
  },
  {
   "cell_type": "code",
   "execution_count": 21,
   "metadata": {},
   "outputs": [
    {
     "name": "stdout",
     "output_type": "stream",
     "text": [
      "for 100 units for 24 Hours(New York),  output : {'region ': 'New York', 'total_cost': '$1200', 'machines': ' [(Large, 1)]'}\n"
     ]
    }
   ],
   "source": [
    "output =   {\n",
    "   \"region \":\"New York\",\n",
    "   \"total_cost\": \"$1200\",\n",
    "   \"machines\": \" [(Large, 1)]\"\n",
    "      }\n",
    "print(\"for 100 units for 24 Hours(New York),  output :\", output)"
   ]
  },
  {
   "cell_type": "code",
   "execution_count": 22,
   "metadata": {},
   "outputs": [
    {
     "name": "stdout",
     "output_type": "stream",
     "text": [
      "for 100 units for 24 Hours(India),  output  : {'region': 'India', 'total_cost': '$1400', 'machines': ' [(Large, 1)]'}\n"
     ]
    }
   ],
   "source": [
    "output =   {\n",
    "\"region\":\"India\",\n",
    "   \"total_cost\": \"$1400\",\n",
    "   \"machines\": \" [(Large, 1)]\"\n",
    "    \n",
    "}\n",
    "print(\"for 100 units for 24 Hours(India),  output  :\", output)"
   ]
  },
  {
   "cell_type": "code",
   "execution_count": 23,
   "metadata": {},
   "outputs": [
    {
     "name": "stdout",
     "output_type": "stream",
     "text": [
      "for 100 units for 24 Hours(China),  output  : {'region': 'China', 'total_cost': '$1100', 'machines': ' [(Large, 1)]'}\n"
     ]
    }
   ],
   "source": [
    "output =   {\n",
    "\"region\":\"China\",\n",
    "   \"total_cost\": \"$1100\",\n",
    "   \"machines\": \" [(Large, 1)]\"\n",
    "    \n",
    "}\n",
    "print(\"for 100 units for 24 Hours(China),  output  :\", output)"
   ]
  },
  {
   "cell_type": "markdown",
   "metadata": {},
   "source": [
    "# 1100 units for 12 Hours"
   ]
  },
  {
   "cell_type": "code",
   "execution_count": 24,
   "metadata": {},
   "outputs": [
    {
     "name": "stdout",
     "output_type": "stream",
     "text": [
      "120\n",
      "240\n",
      "480\n",
      "960\n",
      "1920\n",
      "3840\n"
     ]
    }
   ],
   "source": [
    "units = [10,20,40,80,160,320]\n",
    "hours = [12]\n",
    "\n",
    "for x in units:\n",
    "  for y in hours:\n",
    "    totalunits = x * y\n",
    "    print(totalunits )"
   ]
  },
  {
   "cell_type": "code",
   "execution_count": 25,
   "metadata": {},
   "outputs": [
    {
     "name": "stdout",
     "output_type": "stream",
     "text": [
      "12048 14040 10440\n"
     ]
    }
   ],
   "source": [
    "totalcost_ny = (774+230)*12\n",
    "totalcost_ny\n",
    "totalcost_india =(890+(140*2))*12\n",
    "totalcost_india\n",
    "totalcost_china=(670+200)*12\n",
    "totalcost_china\n",
    "print ( totalcost_ny,totalcost_india,totalcost_china)"
   ]
  },
  {
   "cell_type": "code",
   "execution_count": 26,
   "metadata": {},
   "outputs": [
    {
     "data": {
      "image/png": "[encoded data removed]",
      "text/plain": [
       "<Figure size 432x288 with 1 Axes>"
      ]
     },
     "metadata": {
      "needs_background": "light"
     },
     "output_type": "display_data"
    }
   ],
   "source": [
    "x = [\"NewYork\", \"India\", \"China\"]\n",
    "y = [12048 ,14040, 10440]\n",
    "\n",
    "plt.xlabel('x')\n",
    "plt.ylabel('y (in tens of tenthousands )')\n",
    "plt.title('costs')\n",
    "\n",
    "plt.bar(x, y)\n",
    "plt.show()"
   ]
  },
  {
   "cell_type": "code",
   "execution_count": 27,
   "metadata": {},
   "outputs": [
    {
     "name": "stdout",
     "output_type": "stream",
     "text": [
      "for 1100 units for 12 Hours(New York),  output : {'region ': 'New York', 'total_cost': '$12048', 'machines': ' [(4XLarge, 1)(XLarge, 1)]'}\n"
     ]
    }
   ],
   "source": [
    "output =   {\n",
    "   \"region \":\"New York\",\n",
    "   \"total_cost\": \"$12048\",\n",
    "   \"machines\": \" [(4XLarge, 1)(XLarge, 1)]\"\n",
    "      }\n",
    "print(\"for 1100 units for 12 Hours(New York),  output :\", output)"
   ]
  },
  {
   "cell_type": "code",
   "execution_count": 28,
   "metadata": {},
   "outputs": [
    {
     "name": "stdout",
     "output_type": "stream",
     "text": [
      "for 1100 units for 12 Hours(India),  output : {'region ': 'India', 'total_cost': '$14040', 'machines': ' [(4XLarge, 1)(Large, 2)]'}\n"
     ]
    }
   ],
   "source": [
    "output =   {\n",
    "   \"region \":\"India\",\n",
    "   \"total_cost\": \"$14040\",\n",
    "   \"machines\": \" [(4XLarge, 1)(Large, 2)]\"\n",
    "      }\n",
    "print(\"for 1100 units for 12 Hours(India),  output :\", output)"
   ]
  },
  {
   "cell_type": "code",
   "execution_count": 29,
   "metadata": {},
   "outputs": [
    {
     "name": "stdout",
     "output_type": "stream",
     "text": [
      "for 1100 units for 12 Hours(New York),  output : {'region ': 'China', 'total_cost': '$10440', 'machines': ' [(4XLarge, 1)(XLarge, 1)]'}\n"
     ]
    }
   ],
   "source": [
    "output =   {\n",
    "   \"region \":\"China\",\n",
    "   \"total_cost\": \"$10440\",\n",
    "   \"machines\": \" [(4XLarge, 1)(XLarge, 1)]\"\n",
    "      }\n",
    "print(\"for 1100 units for 12 Hours(New York),  output :\", output)"
   ]
  },
  {
   "cell_type": "code",
   "execution_count": null,
   "metadata": {},
   "outputs": [],
   "source": []
  }
 ],
 "metadata": {
  "kernelspec": {
   "display_name": "Python 3",
   "language": "python",
   "name": "python3"
  },
  "language_info": {
   "codemirror_mode": {
    "name": "ipython",
    "version": 3
   },
   "file_extension": ".py",
   "mimetype": "text/x-python",
   "name": "python",
   "nbconvert_exporter": "python",
   "pygments_lexer": "ipython3",
   "version": "3.7.4"
  }
 },
 "nbformat": 4,
 "nbformat_minor": 2
}
